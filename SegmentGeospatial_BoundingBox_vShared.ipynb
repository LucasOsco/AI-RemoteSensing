{
  "nbformat": 4,
  "nbformat_minor": 0,
  "metadata": {
    "colab": {
      "provenance": [],
      "gpuType": "T4",
      "authorship_tag": "ABX9TyM2O4rAc2GMBTIe3U9vTKY/",
      "include_colab_link": true
    },
    "kernelspec": {
      "name": "python3",
      "display_name": "Python 3"
    },
    "language_info": {
      "name": "python"
    },
    "accelerator": "GPU",
    "gpuClass": "standard"
  },
  "cells": [
    {
      "cell_type": "markdown",
      "metadata": {
        "id": "view-in-github",
        "colab_type": "text"
      },
      "source": [
        "<a href=\"https://colab.research.google.com/github/LucasOsco/AI-RemoteSensing/blob/segment-anything/SegmentGeospatial_BoundingBox_vShared.ipynb\" target=\"_parent\"><img src=\"https://colab.research.google.com/assets/colab-badge.svg\" alt=\"Open In Colab\"/></a>"
      ]
    },
    {
      "cell_type": "markdown",
      "source": [
        "***Connect to Drive***"
      ],
      "metadata": {
        "id": "Whdx1i7uNVZm"
      }
    },
    {
      "cell_type": "code",
      "source": [
        "from google.colab import drive \n",
        "drive.mount('/content/gdrive')"
      ],
      "metadata": {
        "id": "UKwqdtT0NUuW"
      },
      "execution_count": null,
      "outputs": []
    },
    {
      "cell_type": "markdown",
      "source": [
        "***Install both dependencies***"
      ],
      "metadata": {
        "id": "lifS87EB-a8P"
      }
    },
    {
      "cell_type": "code",
      "execution_count": null,
      "metadata": {
        "id": "dHjbgawI6xxz",
        "collapsed": true
      },
      "outputs": [],
      "source": [
        "pip install segment-geospatial leafmap localtileserver"
      ]
    },
    {
      "cell_type": "code",
      "source": [
        "pip install pycrs"
      ],
      "metadata": {
        "id": "hJS8JasjQmtm",
        "collapsed": true
      },
      "execution_count": null,
      "outputs": []
    },
    {
      "cell_type": "markdown",
      "source": [
        "***Import libraries***"
      ],
      "metadata": {
        "id": "ik5FV4aC_Fjs"
      }
    },
    {
      "cell_type": "code",
      "source": [
        "import os\n",
        "import leafmap\n",
        "import torch\n",
        "import cv2\n",
        "import geopandas as gpd\n",
        "from samgeo import SamGeo, SamGeoPredictor, tms_to_geotiff, get_basemaps\n",
        "from segment_anything import sam_model_registry\n",
        "from pathlib import Path"
      ],
      "metadata": {
        "id": "qCJp3U9--h4c"
      },
      "execution_count": null,
      "outputs": []
    },
    {
      "cell_type": "markdown",
      "source": [
        "***Load image and shapefile from Drive***"
      ],
      "metadata": {
        "id": "k_pcviIbAWI0"
      }
    },
    {
      "cell_type": "code",
      "source": [
        "# Read the image\n",
        "image = 'gdrive/My Drive/Colab Notebooks/Image/roi_image.tif' # Switch to your directory instead\n",
        "\n",
        "# Read the shapefile\n",
        "shapefile = 'gdrive/My Drive/Colab Notebooks/Shape/roi_bbox.shp' # Switch to your directory instead\n",
        "gdf = gpd.read_file(shapefile)\n",
        "\n",
        "# Extract bounding boxes from the shapefile\n",
        "clip_boxes = [list(geom.bounds) for geom in gdf.geometry]"
      ],
      "metadata": {
        "id": "SqdJATntAZ1m"
      },
      "execution_count": null,
      "outputs": []
    },
    {
      "cell_type": "markdown",
      "source": [
        "***Create an interactive map***"
      ],
      "metadata": {
        "id": "PnuXRlPw-6Bx"
      }
    },
    {
      "cell_type": "code",
      "source": [
        "zoom = 19\n",
        "style_bbox = {'color': '#FFFF00', 'weight': 1, 'fillColor': '#FFFF00', 'fillOpacity': 0.1,}\n",
        "style_segmented = {'color': '#a37aa9', 'weight': 1, 'fillColor': '#a37aa9', 'fillOpacity': 0.9,}\n",
        "\n",
        "m = leafmap.Map(center=[-22.17615, -51.253043], zoom=zoom)\n",
        "\n",
        "m.add_raster(image, layer_name='Image')\n",
        "m.add_vector(shapefile, layer_name='Vector', style=style_bbox)\n",
        "m"
      ],
      "metadata": {
        "id": "FvxdmqKQ-lGT"
      },
      "execution_count": null,
      "outputs": []
    },
    {
      "cell_type": "markdown",
      "source": [
        "***Initialize SamGeoPredictor class***"
      ],
      "metadata": {
        "id": "AxwZ6qnRAt6T"
      }
    },
    {
      "cell_type": "code",
      "source": [
        "# Load the model from Drive\n",
        "out_dir = os.path.join('gdrive/My Drive/Colab Notebooks/Model/') # Switch to your directory instead\n",
        "checkpoint = os.path.join(out_dir, 'sam_vit_h_4b8939.pth')"
      ],
      "metadata": {
        "id": "E0AAUJ1tAEtx"
      },
      "execution_count": null,
      "outputs": []
    },
    {
      "cell_type": "code",
      "source": [
        "img_arr = cv2.imread(image)\n",
        "model_type = \"vit_h\"\n",
        "sam = sam_model_registry[model_type](checkpoint=checkpoint)\n",
        "predictor = SamGeoPredictor(sam)\n",
        "predictor.set_image(img_arr)"
      ],
      "metadata": {
        "id": "c06Sdzv_A0XW"
      },
      "execution_count": null,
      "outputs": []
    },
    {
      "cell_type": "markdown",
      "source": [
        "***Loop SAM through each polygon feature and load the results on the map***"
      ],
      "metadata": {
        "id": "vN2ecgzyBCcM"
      }
    },
    {
      "cell_type": "code",
      "source": [
        "combined_gdf = gpd.GeoDataFrame()\n",
        "\n",
        "# Process each clip_box\n",
        "for i, clip_box in enumerate(clip_boxes):\n",
        "    masks, _, _ = predictor.predict(src_fp=image, geo_box=clip_box)\n",
        "\n",
        "    masks_img = f\"preds_{i}.tif\"\n",
        "    predictor.masks_to_geotiff(image, masks_img, masks.astype(\"uint8\"))\n",
        "\n",
        "    vector = f\"feats_{i}.geojson\"\n",
        "    temp_gdf = predictor.geotiff_to_geojson(masks_img, vector, bidx=1)\n",
        "    combined_gdf = combined_gdf.append(temp_gdf)\n",
        "    combined_gdf.set_geometry('geometry', inplace=True)\n",
        "\n",
        "    m.add_vector(vector, layer_name=f'Vector_{i}', style=style_segmented)"
      ],
      "metadata": {
        "id": "cxD3Y_urA9lK"
      },
      "execution_count": null,
      "outputs": []
    },
    {
      "cell_type": "markdown",
      "source": [
        "***Export the combined shapefile to Drive***"
      ],
      "metadata": {
        "id": "7eGevkgyFlfh"
      }
    },
    {
      "cell_type": "code",
      "source": [
        "# Set the CRS for the combined GeoDataFrame (use the same CRS as your input shapefile)\n",
        "combined_gdf.crs = 'EPSG:4326'\n",
        "\n",
        "# Save the combined GeoDataFrame as a Shapefile\n",
        "output_shapefile = 'gdrive/My Drive/Colab Notebooks/Output/roi_segmented.shp' # Switch to your directory instead\n",
        "combined_gdf.to_file(output_shapefile)"
      ],
      "metadata": {
        "id": "at6O1tl5FlwS"
      },
      "execution_count": null,
      "outputs": []
    }
  ]
}